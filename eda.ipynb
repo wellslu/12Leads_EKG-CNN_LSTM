{
 "cells": [
  {
   "cell_type": "code",
   "execution_count": 137,
   "id": "82d99e79",
   "metadata": {},
   "outputs": [
    {
     "data": {
      "text/plain": [
       "'1.12.0+cu116'"
      ]
     },
     "execution_count": 137,
     "metadata": {},
     "output_type": "execute_result"
    }
   ],
   "source": [
    "import torch\n",
    "torch.__version__"
   ]
  },
  {
   "cell_type": "code",
   "execution_count": 140,
   "id": "1278db23",
   "metadata": {},
   "outputs": [
    {
     "data": {
      "text/plain": [
       "tensor([1., 2.], dtype=torch.float64)"
      ]
     },
     "execution_count": 140,
     "metadata": {},
     "output_type": "execute_result"
    }
   ],
   "source": [
    "a = torch.DoubleTensor([1,2])\n",
    "torch.Tensor(a)"
   ]
  },
  {
   "cell_type": "code",
   "execution_count": 31,
   "id": "5f7f11e5",
   "metadata": {},
   "outputs": [],
   "source": [
    "import pandas as pd\n",
    "import numpy as np\n",
    "import matplotlib.pyplot as plt\n",
    "from sklearn.preprocessing import StandardScaler, Normalizer\n",
    "import os"
   ]
  },
  {
   "cell_type": "code",
   "execution_count": 32,
   "id": "469986af",
   "metadata": {},
   "outputs": [],
   "source": [
    "train = pd.read_csv('./train.csv')"
   ]
  },
  {
   "cell_type": "code",
   "execution_count": 39,
   "id": "60c5a914",
   "metadata": {},
   "outputs": [],
   "source": [
    "train = train.sort_values(['PID', 'UID']).reset_index(drop=True)"
   ]
  },
  {
   "cell_type": "markdown",
   "id": "aace8a2f",
   "metadata": {},
   "source": [
    "add before ef"
   ]
  },
  {
   "cell_type": "code",
   "execution_count": 50,
   "id": "7a4c56b1",
   "metadata": {},
   "outputs": [],
   "source": [
    "bef = []\n",
    "PID = ''\n",
    "mean_ef = 61\n",
    "for index in range(len(train)):\n",
    "    col = train.loc[index, :]\n",
    "    if PID != col['PID']:\n",
    "        bef.append(mean_ef)\n",
    "        PID = col['PID']\n",
    "        EF = col['EF']\n",
    "    else:\n",
    "        bef.append(EF)\n",
    "        EF = col['EF']"
   ]
  },
  {
   "cell_type": "code",
   "execution_count": 51,
   "id": "f493b51c",
   "metadata": {
    "scrolled": true
   },
   "outputs": [],
   "source": [
    "train['BEF'] = bef"
   ]
  },
  {
   "cell_type": "code",
   "execution_count": 53,
   "id": "b78d8a60",
   "metadata": {},
   "outputs": [],
   "source": [
    "train.to_csv('./train.csv', index=False)"
   ]
  },
  {
   "cell_type": "markdown",
   "id": "81170469",
   "metadata": {},
   "source": [
    "count ef under 50 and 35"
   ]
  },
  {
   "cell_type": "code",
   "execution_count": 3,
   "id": "597ad812",
   "metadata": {},
   "outputs": [],
   "source": [
    "def transfer_target(df_col):\n",
    "    if df_col <= 35:\n",
    "        return 0\n",
    "    elif 35 < df_col <= 50:\n",
    "        return 1\n",
    "    else:\n",
    "        return 2\n",
    "# train['target'] = train['EF'].apply(lambda x: 1-(((x-10)*1.25)/100))\n",
    "train['target'] = train['EF'].apply(transfer_target)"
   ]
  },
  {
   "cell_type": "code",
   "execution_count": null,
   "id": "f31a1b27",
   "metadata": {},
   "outputs": [],
   "source": [
    "train['target'].value_counts()"
   ]
  },
  {
   "cell_type": "code",
   "execution_count": 5,
   "id": "8f5a5026",
   "metadata": {
    "collapsed": true
   },
   "outputs": [
    {
     "data": {
      "text/html": [
       "<div>\n",
       "<style scoped>\n",
       "    .dataframe tbody tr th:only-of-type {\n",
       "        vertical-align: middle;\n",
       "    }\n",
       "\n",
       "    .dataframe tbody tr th {\n",
       "        vertical-align: top;\n",
       "    }\n",
       "\n",
       "    .dataframe thead th {\n",
       "        text-align: right;\n",
       "    }\n",
       "</style>\n",
       "<table border=\"1\" class=\"dataframe\">\n",
       "  <thead>\n",
       "    <tr style=\"text-align: right;\">\n",
       "      <th></th>\n",
       "      <th>PID</th>\n",
       "      <th>UID</th>\n",
       "      <th>EF</th>\n",
       "      <th>target</th>\n",
       "    </tr>\n",
       "  </thead>\n",
       "  <tbody>\n",
       "    <tr>\n",
       "      <th>1</th>\n",
       "      <td>P02046</td>\n",
       "      <td>U09320</td>\n",
       "      <td>27.5</td>\n",
       "      <td>0</td>\n",
       "    </tr>\n",
       "    <tr>\n",
       "      <th>2</th>\n",
       "      <td>P01273</td>\n",
       "      <td>U05782</td>\n",
       "      <td>35.0</td>\n",
       "      <td>0</td>\n",
       "    </tr>\n",
       "    <tr>\n",
       "      <th>10</th>\n",
       "      <td>P02355</td>\n",
       "      <td>U10726</td>\n",
       "      <td>22.5</td>\n",
       "      <td>0</td>\n",
       "    </tr>\n",
       "    <tr>\n",
       "      <th>17</th>\n",
       "      <td>P02201</td>\n",
       "      <td>U10019</td>\n",
       "      <td>40.0</td>\n",
       "      <td>1</td>\n",
       "    </tr>\n",
       "    <tr>\n",
       "      <th>38</th>\n",
       "      <td>P02863</td>\n",
       "      <td>U13030</td>\n",
       "      <td>40.0</td>\n",
       "      <td>1</td>\n",
       "    </tr>\n",
       "    <tr>\n",
       "      <th>...</th>\n",
       "      <td>...</td>\n",
       "      <td>...</td>\n",
       "      <td>...</td>\n",
       "      <td>...</td>\n",
       "    </tr>\n",
       "    <tr>\n",
       "      <th>9781</th>\n",
       "      <td>P01045</td>\n",
       "      <td>U04733</td>\n",
       "      <td>40.0</td>\n",
       "      <td>1</td>\n",
       "    </tr>\n",
       "    <tr>\n",
       "      <th>9786</th>\n",
       "      <td>P01023</td>\n",
       "      <td>U04630</td>\n",
       "      <td>47.5</td>\n",
       "      <td>1</td>\n",
       "    </tr>\n",
       "    <tr>\n",
       "      <th>9796</th>\n",
       "      <td>P02090</td>\n",
       "      <td>U09527</td>\n",
       "      <td>37.5</td>\n",
       "      <td>1</td>\n",
       "    </tr>\n",
       "    <tr>\n",
       "      <th>9797</th>\n",
       "      <td>P00193</td>\n",
       "      <td>U00857</td>\n",
       "      <td>22.5</td>\n",
       "      <td>0</td>\n",
       "    </tr>\n",
       "    <tr>\n",
       "      <th>9798</th>\n",
       "      <td>P01812</td>\n",
       "      <td>U08261</td>\n",
       "      <td>40.0</td>\n",
       "      <td>1</td>\n",
       "    </tr>\n",
       "  </tbody>\n",
       "</table>\n",
       "<p>1483 rows × 4 columns</p>\n",
       "</div>"
      ],
      "text/plain": [
       "         PID     UID    EF  target\n",
       "1     P02046  U09320  27.5       0\n",
       "2     P01273  U05782  35.0       0\n",
       "10    P02355  U10726  22.5       0\n",
       "17    P02201  U10019  40.0       1\n",
       "38    P02863  U13030  40.0       1\n",
       "...      ...     ...   ...     ...\n",
       "9781  P01045  U04733  40.0       1\n",
       "9786  P01023  U04630  47.5       1\n",
       "9796  P02090  U09527  37.5       1\n",
       "9797  P00193  U00857  22.5       0\n",
       "9798  P01812  U08261  40.0       1\n",
       "\n",
       "[1483 rows x 4 columns]"
      ]
     },
     "execution_count": 5,
     "metadata": {},
     "output_type": "execute_result"
    }
   ],
   "source": [
    "train[train['EF']<50]"
   ]
  },
  {
   "cell_type": "markdown",
   "id": "bc18bdf0",
   "metadata": {},
   "source": [
    "split data"
   ]
  },
  {
   "cell_type": "code",
   "execution_count": 6,
   "id": "9284dc36",
   "metadata": {},
   "outputs": [],
   "source": [
    "train.to_csv('./train.csv', index=False)"
   ]
  },
  {
   "cell_type": "code",
   "execution_count": 91,
   "id": "9f58a837",
   "metadata": {
    "scrolled": true
   },
   "outputs": [],
   "source": [
    "keep = []\n",
    "PID = ''\n",
    "for index in range(len(train)):\n",
    "    col = train.loc[index, :]\n",
    "    if PID != col['PID']:\n",
    "        PID = col['PID']\n",
    "    else:\n",
    "        keep.append(index)"
   ]
  },
  {
   "cell_type": "code",
   "execution_count": 92,
   "id": "5975d12c",
   "metadata": {},
   "outputs": [],
   "source": [
    "train = train.reset_index()\n",
    "train = train[train['index'].isin(keep)]\n",
    "train.drop('index', axis=1, inplace=True)"
   ]
  },
  {
   "cell_type": "code",
   "execution_count": 93,
   "id": "cc4f3b03",
   "metadata": {},
   "outputs": [
    {
     "data": {
      "text/html": [
       "<div>\n",
       "<style scoped>\n",
       "    .dataframe tbody tr th:only-of-type {\n",
       "        vertical-align: middle;\n",
       "    }\n",
       "\n",
       "    .dataframe tbody tr th {\n",
       "        vertical-align: top;\n",
       "    }\n",
       "\n",
       "    .dataframe thead th {\n",
       "        text-align: right;\n",
       "    }\n",
       "</style>\n",
       "<table border=\"1\" class=\"dataframe\">\n",
       "  <thead>\n",
       "    <tr style=\"text-align: right;\">\n",
       "      <th></th>\n",
       "      <th>PID</th>\n",
       "      <th>UID</th>\n",
       "      <th>EF</th>\n",
       "      <th>BEF</th>\n",
       "    </tr>\n",
       "  </thead>\n",
       "  <tbody>\n",
       "    <tr>\n",
       "      <th>1</th>\n",
       "      <td>P00001</td>\n",
       "      <td>U00002</td>\n",
       "      <td>70.0</td>\n",
       "      <td>61.0</td>\n",
       "    </tr>\n",
       "    <tr>\n",
       "      <th>2</th>\n",
       "      <td>P00001</td>\n",
       "      <td>U00003</td>\n",
       "      <td>68.0</td>\n",
       "      <td>70.0</td>\n",
       "    </tr>\n",
       "    <tr>\n",
       "      <th>3</th>\n",
       "      <td>P00001</td>\n",
       "      <td>U00004</td>\n",
       "      <td>69.0</td>\n",
       "      <td>68.0</td>\n",
       "    </tr>\n",
       "    <tr>\n",
       "      <th>5</th>\n",
       "      <td>P00002</td>\n",
       "      <td>U00008</td>\n",
       "      <td>62.0</td>\n",
       "      <td>61.0</td>\n",
       "    </tr>\n",
       "    <tr>\n",
       "      <th>7</th>\n",
       "      <td>P00003</td>\n",
       "      <td>U00012</td>\n",
       "      <td>55.0</td>\n",
       "      <td>62.0</td>\n",
       "    </tr>\n",
       "    <tr>\n",
       "      <th>...</th>\n",
       "      <td>...</td>\n",
       "      <td>...</td>\n",
       "      <td>...</td>\n",
       "      <td>...</td>\n",
       "    </tr>\n",
       "    <tr>\n",
       "      <th>9800</th>\n",
       "      <td>P03070</td>\n",
       "      <td>U13963</td>\n",
       "      <td>75.0</td>\n",
       "      <td>70.0</td>\n",
       "    </tr>\n",
       "    <tr>\n",
       "      <th>9801</th>\n",
       "      <td>P03070</td>\n",
       "      <td>U13964</td>\n",
       "      <td>70.0</td>\n",
       "      <td>75.0</td>\n",
       "    </tr>\n",
       "    <tr>\n",
       "      <th>9803</th>\n",
       "      <td>P03071</td>\n",
       "      <td>U13966</td>\n",
       "      <td>51.0</td>\n",
       "      <td>64.0</td>\n",
       "    </tr>\n",
       "    <tr>\n",
       "      <th>9804</th>\n",
       "      <td>P03071</td>\n",
       "      <td>U13967</td>\n",
       "      <td>50.0</td>\n",
       "      <td>51.0</td>\n",
       "    </tr>\n",
       "    <tr>\n",
       "      <th>9805</th>\n",
       "      <td>P03071</td>\n",
       "      <td>U13968</td>\n",
       "      <td>57.0</td>\n",
       "      <td>50.0</td>\n",
       "    </tr>\n",
       "  </tbody>\n",
       "</table>\n",
       "<p>6735 rows × 4 columns</p>\n",
       "</div>"
      ],
      "text/plain": [
       "         PID     UID    EF   BEF\n",
       "1     P00001  U00002  70.0  61.0\n",
       "2     P00001  U00003  68.0  70.0\n",
       "3     P00001  U00004  69.0  68.0\n",
       "5     P00002  U00008  62.0  61.0\n",
       "7     P00003  U00012  55.0  62.0\n",
       "...      ...     ...   ...   ...\n",
       "9800  P03070  U13963  75.0  70.0\n",
       "9801  P03070  U13964  70.0  75.0\n",
       "9803  P03071  U13966  51.0  64.0\n",
       "9804  P03071  U13967  50.0  51.0\n",
       "9805  P03071  U13968  57.0  50.0\n",
       "\n",
       "[6735 rows x 4 columns]"
      ]
     },
     "execution_count": 93,
     "metadata": {},
     "output_type": "execute_result"
    }
   ],
   "source": [
    "train"
   ]
  },
  {
   "cell_type": "code",
   "execution_count": 94,
   "id": "2f966861",
   "metadata": {},
   "outputs": [],
   "source": [
    "train = train.sample(frac=1).reset_index(drop=True)"
   ]
  },
  {
   "cell_type": "code",
   "execution_count": 95,
   "id": "3e279013",
   "metadata": {},
   "outputs": [],
   "source": [
    "train[:int(len(train)*0.2)].to_csv('./pytorch/data/validation.csv', index=False)\n",
    "train[int(len(train)*0.2):].to_csv('./pytorch/data/train.csv', index=False)"
   ]
  },
  {
   "cell_type": "code",
   "execution_count": null,
   "id": "668d1b84",
   "metadata": {},
   "outputs": [],
   "source": []
  },
  {
   "cell_type": "markdown",
   "id": "dbbe66c6",
   "metadata": {},
   "source": [
    "preprocessing test data"
   ]
  },
  {
   "cell_type": "code",
   "execution_count": 128,
   "id": "44a2d866",
   "metadata": {},
   "outputs": [],
   "source": [
    "train = pd.read_csv('./train.csv')"
   ]
  },
  {
   "cell_type": "code",
   "execution_count": 65,
   "id": "b659533e",
   "metadata": {},
   "outputs": [],
   "source": [
    "# mean_array = np.zeros((1000, 12))"
   ]
  },
  {
   "cell_type": "code",
   "execution_count": 69,
   "id": "11cc4042",
   "metadata": {},
   "outputs": [],
   "source": [
    "# for uid in train['UID']:\n",
    "#     mean_array = mean_array + pd.read_csv(f'ecg/{uid}.csv').to_numpy()"
   ]
  },
  {
   "cell_type": "code",
   "execution_count": 72,
   "id": "f0ea8a5a",
   "metadata": {},
   "outputs": [],
   "source": [
    "# mean_array/=9806"
   ]
  },
  {
   "cell_type": "code",
   "execution_count": 77,
   "id": "f28ebf3c",
   "metadata": {},
   "outputs": [],
   "source": [
    "# pd.DataFrame(mean_array.astype('int')).to_csv('ecg/mean_array.csv', index=False)"
   ]
  },
  {
   "cell_type": "code",
   "execution_count": 78,
   "id": "69fd67f3",
   "metadata": {},
   "outputs": [],
   "source": [
    "# mean_array = pd.DataFrame(mean_array.astype('int'))"
   ]
  },
  {
   "cell_type": "code",
   "execution_count": null,
   "id": "c6dec55b",
   "metadata": {},
   "outputs": [],
   "source": [
    "PID = ''\n",
    "bdf = pd.DataFrame()\n",
    "for index in range(len(train)):\n",
    "    col = train.loc[index, :]\n",
    "    uid = col['UID']\n",
    "    if PID != col['PID']:\n",
    "        PID = col['PID']\n",
    "        bdf = pd.read_csv(f'ecg/{uid}.csv')\n",
    "    else:\n",
    "        df = pd.read_csv(f'ecg/{uid}.csv')\n",
    "        pd.concat([df, bdf], axis=1).to_csv(f'./pytorch/data/ecg/{uid}.csv', index=False)\n",
    "        bdf = df"
   ]
  },
  {
   "cell_type": "code",
   "execution_count": null,
   "id": "f9280521",
   "metadata": {},
   "outputs": [],
   "source": [
    "train.drop_duplicates(subset=['PID'], keep='last')"
   ]
  },
  {
   "cell_type": "code",
   "execution_count": null,
   "id": "77a79a24",
   "metadata": {},
   "outputs": [],
   "source": [
    "test = pd.read_csv('./test.csv')"
   ]
  },
  {
   "cell_type": "code",
   "execution_count": null,
   "id": "0539ebfc",
   "metadata": {},
   "outputs": [],
   "source": [
    "test_uid = test.merge(train.drop_duplicates(subset=['PID'], keep='last')[['PID', 'UID']], on='PID', how='left')"
   ]
  },
  {
   "cell_type": "code",
   "execution_count": null,
   "id": "e5ac9eb6",
   "metadata": {},
   "outputs": [],
   "source": [
    "for uid_x, uid_y in zip(test_uid['UID_x'], test_uid['UID_y']):\n",
    "    pd.concat([pd.read_csv(f'ecg/{uid_x}.csv'), pd.read_csv(f'ecg/{uid_y}.csv')], axis=1).to_csv(f'./pytorch/data/ecg/{uid_x}.csv', index=False)"
   ]
  },
  {
   "cell_type": "code",
   "execution_count": null,
   "id": "2e0c8909",
   "metadata": {},
   "outputs": [],
   "source": [
    "test = test.merge(train.drop_duplicates(subset=['PID'], keep='last')[['PID', 'EF']], on='PID', how='left')\n",
    "test = test.rename({'EF': 'BEF'}, axis=1)"
   ]
  },
  {
   "cell_type": "code",
   "execution_count": null,
   "id": "5e78a81f",
   "metadata": {},
   "outputs": [],
   "source": [
    "test.to_csv('./pytorch/data/test.csv', index=False)"
   ]
  },
  {
   "cell_type": "code",
   "execution_count": null,
   "id": "b2aff2dc",
   "metadata": {},
   "outputs": [],
   "source": []
  },
  {
   "cell_type": "code",
   "execution_count": null,
   "id": "cb6c9834",
   "metadata": {},
   "outputs": [],
   "source": []
  },
  {
   "cell_type": "markdown",
   "id": "7c443adb",
   "metadata": {},
   "source": [
    "normalize data"
   ]
  },
  {
   "cell_type": "code",
   "execution_count": 44,
   "id": "cc79f34c",
   "metadata": {},
   "outputs": [],
   "source": [
    "std_dict = {'leadI':Normalizer(), 'leadII':Normalizer(), 'leadIII':Normalizer(),\n",
    "            'leadaVR':Normalizer(), 'leadaVL':Normalizer(), 'leadaVF':Normalizer(),\n",
    "            'leadV1':Normalizer(), 'leadV2':Normalizer(), 'leadV3':Normalizer(),\n",
    "            'leadV4':Normalizer(), 'leadV5':Normalizer(), 'leadV6':Normalizer()}"
   ]
  },
  {
   "cell_type": "code",
   "execution_count": 45,
   "id": "1149b0ab",
   "metadata": {
    "scrolled": true
   },
   "outputs": [],
   "source": [
    "file_list = os.listdir('ecg')"
   ]
  },
  {
   "cell_type": "code",
   "execution_count": 46,
   "id": "f4030bff",
   "metadata": {},
   "outputs": [],
   "source": [
    "for file in file_list:\n",
    "    df = pd.read_csv(f'ecg/{file}')\n",
    "    for col in df.columns:\n",
    "        std_dict[col].fit(df[col].values.reshape(1, -1))"
   ]
  },
  {
   "cell_type": "code",
   "execution_count": 61,
   "id": "f07c802e",
   "metadata": {
    "scrolled": true
   },
   "outputs": [],
   "source": [
    "for file in file_list:\n",
    "    df = pd.read_csv(f'ecg/{file}')\n",
    "    for col in df.columns:\n",
    "        df[col] = std_dict[col].transform(df[col].values.reshape(1, -1)).reshape(-1)\n",
    "    df.to_csv(f'./pytorch/data/ecg/{file}', index=False)"
   ]
  },
  {
   "cell_type": "code",
   "execution_count": null,
   "id": "c311bb21",
   "metadata": {},
   "outputs": [],
   "source": []
  },
  {
   "cell_type": "code",
   "execution_count": null,
   "id": "eb002b2a",
   "metadata": {},
   "outputs": [],
   "source": []
  },
  {
   "cell_type": "code",
   "execution_count": null,
   "id": "677df1d1",
   "metadata": {},
   "outputs": [],
   "source": []
  }
 ],
 "metadata": {
  "kernelspec": {
   "display_name": "Python 3 (ipykernel)",
   "language": "python",
   "name": "python3"
  },
  "language_info": {
   "codemirror_mode": {
    "name": "ipython",
    "version": 3
   },
   "file_extension": ".py",
   "mimetype": "text/x-python",
   "name": "python",
   "nbconvert_exporter": "python",
   "pygments_lexer": "ipython3",
   "version": "3.9.12"
  }
 },
 "nbformat": 4,
 "nbformat_minor": 5
}
