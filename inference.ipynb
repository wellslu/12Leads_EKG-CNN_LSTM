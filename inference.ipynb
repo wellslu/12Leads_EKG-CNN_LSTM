{
 "cells": [
  {
   "cell_type": "code",
   "execution_count": 1,
   "id": "2595d422",
   "metadata": {
    "scrolled": true
   },
   "outputs": [
    {
     "data": {
      "text/plain": [
       "<All keys matched successfully>"
      ]
     },
     "execution_count": 1,
     "metadata": {},
     "output_type": "execute_result"
    }
   ],
   "source": [
    "import pandas as pd\n",
    "import numpy as np\n",
    "import torch\n",
    "from src.models import CNN\n",
    "from src.models import LSTMModel\n",
    "from src.models import CNN_LSTM\n",
    "device = torch.device('cuda' if torch.cuda.is_available() else 'cpu')\n",
    "\n",
    "model = CNN_LSTM().to(device)\n",
    "model.load_state_dict(torch.load('./best.pth')['model'])"
   ]
  },
  {
   "cell_type": "code",
   "execution_count": 2,
   "id": "8f02ef2c",
   "metadata": {},
   "outputs": [],
   "source": [
    "test = pd.read_csv('./data/test.csv')"
   ]
  },
  {
   "cell_type": "code",
   "execution_count": 3,
   "id": "03b324a8",
   "metadata": {
    "scrolled": true
   },
   "outputs": [],
   "source": [
    "p_LVD = []\n",
    "for uid, bef in zip(test['UID'].to_list(), test['BEF'].to_list()):\n",
    "    x = pd.read_csv(f'./data/ecg/{uid}.csv').to_numpy()\n",
    "    x = torch.FloatTensor(x).to(device).unsqueeze(0).unsqueeze(0)\n",
    "    bef = torch.FloatTensor([bef]).to(device)\n",
    "    with torch.no_grad():\n",
    "        model.eval() \n",
    "        output = model(x, bef)\n",
    "    output = output[0][0].to('cpu')\n",
    "    p_LVD.append(output.item())"
   ]
  },
  {
   "cell_type": "code",
   "execution_count": 4,
   "id": "ae789920",
   "metadata": {
    "scrolled": true
   },
   "outputs": [],
   "source": [
    "answer = pd.read_csv('../sample_submission.csv')"
   ]
  },
  {
   "cell_type": "code",
   "execution_count": 5,
   "id": "a97589fc",
   "metadata": {},
   "outputs": [],
   "source": [
    "answer['p_LVD'] = p_LVD\n",
    "# answer['p_LVD'] = answer['p_LVD'].apply(lambda x: 90 if 90<x else x)\n",
    "# answer['p_LVD'] = answer['p_LVD'].apply(lambda x: 10 if 10>x else x)"
   ]
  },
  {
   "cell_type": "code",
   "execution_count": 6,
   "id": "428e8497",
   "metadata": {
    "scrolled": true
   },
   "outputs": [],
   "source": [
    "answer['p_LVD'] = answer['p_LVD'].apply(lambda x: 1-(((x-10)*1.25)/100))\n",
    "# answer['p_LVD'] = answer['p_LVD'].apply(lambda x: 1 if x <= 35 else 0.5-((x-35)/110))"
   ]
  },
  {
   "cell_type": "code",
   "execution_count": 7,
   "id": "643af16c",
   "metadata": {},
   "outputs": [],
   "source": [
    "answer.to_csv('answer.csv', index=False)"
   ]
  },
  {
   "cell_type": "code",
   "execution_count": null,
   "id": "a7f75155",
   "metadata": {},
   "outputs": [],
   "source": []
  },
  {
   "cell_type": "code",
   "execution_count": null,
   "id": "2cd95506",
   "metadata": {},
   "outputs": [],
   "source": []
  }
 ],
 "metadata": {
  "kernelspec": {
   "display_name": "Python 3 (ipykernel)",
   "language": "python",
   "name": "python3"
  },
  "language_info": {
   "codemirror_mode": {
    "name": "ipython",
    "version": 3
   },
   "file_extension": ".py",
   "mimetype": "text/x-python",
   "name": "python",
   "nbconvert_exporter": "python",
   "pygments_lexer": "ipython3",
   "version": "3.9.12"
  }
 },
 "nbformat": 4,
 "nbformat_minor": 5
}
